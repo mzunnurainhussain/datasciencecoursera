This notebook will be used for the IBM sponsored Coursera Data Science certification, Capstone course
In [4]: import pandas as pd
In [5]: import numpy as np
In [6]: print("Hello Capstone Project Course")
Hello Capstone Project Course
